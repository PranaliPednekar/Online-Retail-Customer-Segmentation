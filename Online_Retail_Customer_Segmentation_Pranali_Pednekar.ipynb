{
 "cells": [
  {
   "cell_type": "markdown",
   "id": "9094f480-3d53-428b-8e78-6036c62b6fc0",
   "metadata": {},
   "source": [
    "# Identify customer segments for online retail with the use of K-means clustering"
   ]
  },
  {
   "cell_type": "markdown",
   "id": "e23d68c0-d121-4afa-b4b0-485195c5a8a2",
   "metadata": {},
   "source": [
    "#### K-means clustering helps online retailers group customers based on their shopping habits and preferences.\n",
    "#### By understanding these segments, businesses can offer personalized experiences and improve customer satisfaction."
   ]
  },
  {
   "cell_type": "markdown",
   "id": "44ed6c63-3761-4b0d-bdaa-fe7a5addf49f",
   "metadata": {},
   "source": [
    "## 1. Loading the Data:\n",
    "Read data from various sources such as CSV files, Excel files, and SQL databases."
   ]
  },
  {
   "cell_type": "code",
   "execution_count": 152,
   "id": "0c5c2b55-6400-4a5c-91c5-baf86ef60f70",
   "metadata": {},
   "outputs": [],
   "source": [
    "# importing the necessary libraries\n",
    "import pandas as pd\n",
    "import numpy as np\n",
    "import matplotlib.pyplot as plt"
   ]
  },
  {
   "cell_type": "code",
   "execution_count": 154,
   "id": "e77af457-9f00-45f3-b1bd-4d874d17abc4",
   "metadata": {},
   "outputs": [],
   "source": [
    "# loading the data\n",
    "retail_data = pd.read_excel('Online Retail.xlsx', engine='openpyxl')"
   ]
  },
  {
   "cell_type": "markdown",
   "id": "aba28bfe-ddbe-44f7-9a77-b911f7458d6a",
   "metadata": {},
   "source": [
    "Since it is a huge dataset while loading it here I'm using [engine='openpyxl'] for optimized file reading"
   ]
  },
  {
   "cell_type": "markdown",
   "id": "4f0ac435-a556-48e2-96a8-02a9d46d0149",
   "metadata": {},
   "source": [
    "## 2. Understanding the Data:\n",
    "Explore basic information about the data, including head, info, and descrie..\n",
    "Check for missing values in the dataset."
   ]
  },
  {
   "cell_type": "code",
   "execution_count": 158,
   "id": "09c194cd-7f5e-4a52-8b4c-6e962fefe26c",
   "metadata": {},
   "outputs": [
    {
     "data": {
      "text/html": [
       "<div>\n",
       "<style scoped>\n",
       "    .dataframe tbody tr th:only-of-type {\n",
       "        vertical-align: middle;\n",
       "    }\n",
       "\n",
       "    .dataframe tbody tr th {\n",
       "        vertical-align: top;\n",
       "    }\n",
       "\n",
       "    .dataframe thead th {\n",
       "        text-align: right;\n",
       "    }\n",
       "</style>\n",
       "<table border=\"1\" class=\"dataframe\">\n",
       "  <thead>\n",
       "    <tr style=\"text-align: right;\">\n",
       "      <th></th>\n",
       "      <th>InvoiceNo</th>\n",
       "      <th>StockCode</th>\n",
       "      <th>Description</th>\n",
       "      <th>Quantity</th>\n",
       "      <th>InvoiceDate</th>\n",
       "      <th>UnitPrice</th>\n",
       "      <th>CustomerID</th>\n",
       "      <th>Country</th>\n",
       "    </tr>\n",
       "  </thead>\n",
       "  <tbody>\n",
       "    <tr>\n",
       "      <th>0</th>\n",
       "      <td>536365</td>\n",
       "      <td>85123A</td>\n",
       "      <td>WHITE HANGING HEART T-LIGHT HOLDER</td>\n",
       "      <td>6</td>\n",
       "      <td>2010-12-01 08:26:00</td>\n",
       "      <td>2.55</td>\n",
       "      <td>17850.0</td>\n",
       "      <td>United Kingdom</td>\n",
       "    </tr>\n",
       "    <tr>\n",
       "      <th>1</th>\n",
       "      <td>536365</td>\n",
       "      <td>71053</td>\n",
       "      <td>WHITE METAL LANTERN</td>\n",
       "      <td>6</td>\n",
       "      <td>2010-12-01 08:26:00</td>\n",
       "      <td>3.39</td>\n",
       "      <td>17850.0</td>\n",
       "      <td>United Kingdom</td>\n",
       "    </tr>\n",
       "    <tr>\n",
       "      <th>2</th>\n",
       "      <td>536365</td>\n",
       "      <td>84406B</td>\n",
       "      <td>CREAM CUPID HEARTS COAT HANGER</td>\n",
       "      <td>8</td>\n",
       "      <td>2010-12-01 08:26:00</td>\n",
       "      <td>2.75</td>\n",
       "      <td>17850.0</td>\n",
       "      <td>United Kingdom</td>\n",
       "    </tr>\n",
       "    <tr>\n",
       "      <th>3</th>\n",
       "      <td>536365</td>\n",
       "      <td>84029G</td>\n",
       "      <td>KNITTED UNION FLAG HOT WATER BOTTLE</td>\n",
       "      <td>6</td>\n",
       "      <td>2010-12-01 08:26:00</td>\n",
       "      <td>3.39</td>\n",
       "      <td>17850.0</td>\n",
       "      <td>United Kingdom</td>\n",
       "    </tr>\n",
       "    <tr>\n",
       "      <th>4</th>\n",
       "      <td>536365</td>\n",
       "      <td>84029E</td>\n",
       "      <td>RED WOOLLY HOTTIE WHITE HEART.</td>\n",
       "      <td>6</td>\n",
       "      <td>2010-12-01 08:26:00</td>\n",
       "      <td>3.39</td>\n",
       "      <td>17850.0</td>\n",
       "      <td>United Kingdom</td>\n",
       "    </tr>\n",
       "  </tbody>\n",
       "</table>\n",
       "</div>"
      ],
      "text/plain": [
       "  InvoiceNo StockCode                          Description  Quantity  \\\n",
       "0    536365    85123A   WHITE HANGING HEART T-LIGHT HOLDER         6   \n",
       "1    536365     71053                  WHITE METAL LANTERN         6   \n",
       "2    536365    84406B       CREAM CUPID HEARTS COAT HANGER         8   \n",
       "3    536365    84029G  KNITTED UNION FLAG HOT WATER BOTTLE         6   \n",
       "4    536365    84029E       RED WOOLLY HOTTIE WHITE HEART.         6   \n",
       "\n",
       "          InvoiceDate  UnitPrice  CustomerID         Country  \n",
       "0 2010-12-01 08:26:00       2.55     17850.0  United Kingdom  \n",
       "1 2010-12-01 08:26:00       3.39     17850.0  United Kingdom  \n",
       "2 2010-12-01 08:26:00       2.75     17850.0  United Kingdom  \n",
       "3 2010-12-01 08:26:00       3.39     17850.0  United Kingdom  \n",
       "4 2010-12-01 08:26:00       3.39     17850.0  United Kingdom  "
      ]
     },
     "execution_count": 158,
     "metadata": {},
     "output_type": "execute_result"
    }
   ],
   "source": [
    "# viewing first few rows\n",
    "retail_data.head()"
   ]
  },
  {
   "cell_type": "code",
   "execution_count": 160,
   "id": "898940cd-85fa-45b9-8ed5-f11da436a5ee",
   "metadata": {},
   "outputs": [
    {
     "name": "stdout",
     "output_type": "stream",
     "text": [
      "<class 'pandas.core.frame.DataFrame'>\n",
      "RangeIndex: 541909 entries, 0 to 541908\n",
      "Data columns (total 8 columns):\n",
      " #   Column       Non-Null Count   Dtype         \n",
      "---  ------       --------------   -----         \n",
      " 0   InvoiceNo    541909 non-null  object        \n",
      " 1   StockCode    541909 non-null  object        \n",
      " 2   Description  540455 non-null  object        \n",
      " 3   Quantity     541909 non-null  int64         \n",
      " 4   InvoiceDate  541909 non-null  datetime64[ns]\n",
      " 5   UnitPrice    541909 non-null  float64       \n",
      " 6   CustomerID   406829 non-null  float64       \n",
      " 7   Country      541909 non-null  object        \n",
      "dtypes: datetime64[ns](1), float64(2), int64(1), object(4)\n",
      "memory usage: 33.1+ MB\n",
      "None\n"
     ]
    }
   ],
   "source": [
    "# checking the data types and non-null values\n",
    "print(retail_data.info())"
   ]
  },
  {
   "cell_type": "code",
   "execution_count": 162,
   "id": "90193f0c-966a-4cf9-9f8e-de3781630caf",
   "metadata": {},
   "outputs": [
    {
     "data": {
      "text/html": [
       "<div>\n",
       "<style scoped>\n",
       "    .dataframe tbody tr th:only-of-type {\n",
       "        vertical-align: middle;\n",
       "    }\n",
       "\n",
       "    .dataframe tbody tr th {\n",
       "        vertical-align: top;\n",
       "    }\n",
       "\n",
       "    .dataframe thead th {\n",
       "        text-align: right;\n",
       "    }\n",
       "</style>\n",
       "<table border=\"1\" class=\"dataframe\">\n",
       "  <thead>\n",
       "    <tr style=\"text-align: right;\">\n",
       "      <th></th>\n",
       "      <th>Quantity</th>\n",
       "      <th>InvoiceDate</th>\n",
       "      <th>UnitPrice</th>\n",
       "      <th>CustomerID</th>\n",
       "    </tr>\n",
       "  </thead>\n",
       "  <tbody>\n",
       "    <tr>\n",
       "      <th>count</th>\n",
       "      <td>541909.000000</td>\n",
       "      <td>541909</td>\n",
       "      <td>541909.000000</td>\n",
       "      <td>406829.000000</td>\n",
       "    </tr>\n",
       "    <tr>\n",
       "      <th>mean</th>\n",
       "      <td>9.552250</td>\n",
       "      <td>2011-07-04 13:34:57.156386048</td>\n",
       "      <td>4.611114</td>\n",
       "      <td>15287.690570</td>\n",
       "    </tr>\n",
       "    <tr>\n",
       "      <th>min</th>\n",
       "      <td>-80995.000000</td>\n",
       "      <td>2010-12-01 08:26:00</td>\n",
       "      <td>-11062.060000</td>\n",
       "      <td>12346.000000</td>\n",
       "    </tr>\n",
       "    <tr>\n",
       "      <th>25%</th>\n",
       "      <td>1.000000</td>\n",
       "      <td>2011-03-28 11:34:00</td>\n",
       "      <td>1.250000</td>\n",
       "      <td>13953.000000</td>\n",
       "    </tr>\n",
       "    <tr>\n",
       "      <th>50%</th>\n",
       "      <td>3.000000</td>\n",
       "      <td>2011-07-19 17:17:00</td>\n",
       "      <td>2.080000</td>\n",
       "      <td>15152.000000</td>\n",
       "    </tr>\n",
       "    <tr>\n",
       "      <th>75%</th>\n",
       "      <td>10.000000</td>\n",
       "      <td>2011-10-19 11:27:00</td>\n",
       "      <td>4.130000</td>\n",
       "      <td>16791.000000</td>\n",
       "    </tr>\n",
       "    <tr>\n",
       "      <th>max</th>\n",
       "      <td>80995.000000</td>\n",
       "      <td>2011-12-09 12:50:00</td>\n",
       "      <td>38970.000000</td>\n",
       "      <td>18287.000000</td>\n",
       "    </tr>\n",
       "    <tr>\n",
       "      <th>std</th>\n",
       "      <td>218.081158</td>\n",
       "      <td>NaN</td>\n",
       "      <td>96.759853</td>\n",
       "      <td>1713.600303</td>\n",
       "    </tr>\n",
       "  </tbody>\n",
       "</table>\n",
       "</div>"
      ],
      "text/plain": [
       "            Quantity                    InvoiceDate      UnitPrice  \\\n",
       "count  541909.000000                         541909  541909.000000   \n",
       "mean        9.552250  2011-07-04 13:34:57.156386048       4.611114   \n",
       "min    -80995.000000            2010-12-01 08:26:00  -11062.060000   \n",
       "25%         1.000000            2011-03-28 11:34:00       1.250000   \n",
       "50%         3.000000            2011-07-19 17:17:00       2.080000   \n",
       "75%        10.000000            2011-10-19 11:27:00       4.130000   \n",
       "max     80995.000000            2011-12-09 12:50:00   38970.000000   \n",
       "std       218.081158                            NaN      96.759853   \n",
       "\n",
       "          CustomerID  \n",
       "count  406829.000000  \n",
       "mean    15287.690570  \n",
       "min     12346.000000  \n",
       "25%     13953.000000  \n",
       "50%     15152.000000  \n",
       "75%     16791.000000  \n",
       "max     18287.000000  \n",
       "std      1713.600303  "
      ]
     },
     "execution_count": 162,
     "metadata": {},
     "output_type": "execute_result"
    }
   ],
   "source": [
    "# Statistical Summary\n",
    "retail_data.describe()"
   ]
  },
  {
   "cell_type": "markdown",
   "id": "49240579-a7b0-445e-a4bd-9e815d1771a9",
   "metadata": {},
   "source": [
    "#### Checking for null/ missing values"
   ]
  },
  {
   "cell_type": "code",
   "execution_count": 165,
   "id": "22d2e2c0-9ba3-4db0-ac77-8629e4fd3cdf",
   "metadata": {},
   "outputs": [
    {
     "name": "stdout",
     "output_type": "stream",
     "text": [
      "<class 'pandas.core.frame.DataFrame'>\n",
      "RangeIndex: 541909 entries, 0 to 541908\n",
      "Data columns (total 8 columns):\n",
      " #   Column       Non-Null Count   Dtype         \n",
      "---  ------       --------------   -----         \n",
      " 0   InvoiceNo    541909 non-null  object        \n",
      " 1   StockCode    541909 non-null  object        \n",
      " 2   Description  540455 non-null  object        \n",
      " 3   Quantity     541909 non-null  int64         \n",
      " 4   InvoiceDate  541909 non-null  datetime64[ns]\n",
      " 5   UnitPrice    541909 non-null  float64       \n",
      " 6   CustomerID   406829 non-null  float64       \n",
      " 7   Country      541909 non-null  object        \n",
      "dtypes: datetime64[ns](1), float64(2), int64(1), object(4)\n",
      "memory usage: 33.1+ MB\n"
     ]
    }
   ],
   "source": [
    "retail_data.info()"
   ]
  },
  {
   "cell_type": "code",
   "execution_count": 167,
   "id": "e59439a6-e3b4-494f-9b8c-b5af39283a28",
   "metadata": {},
   "outputs": [
    {
     "name": "stdout",
     "output_type": "stream",
     "text": [
      "Number of missing values in each column: InvoiceNo           0\n",
      "StockCode           0\n",
      "Description      1454\n",
      "Quantity            0\n",
      "InvoiceDate         0\n",
      "UnitPrice           0\n",
      "CustomerID     135080\n",
      "Country             0\n",
      "dtype: int64\n"
     ]
    }
   ],
   "source": [
    "# Checking the number of missing values in each column\n",
    "print('Number of missing values in each column:', retail_data.isnull().sum())"
   ]
  },
  {
   "cell_type": "markdown",
   "id": "bc5fd58c-278c-4286-9ad4-7b0996a222ce",
   "metadata": {},
   "source": [
    "#### The Description column contains 1454 null values where CustomerID has around 135080 null values.\n",
    "#### Let's check the percentage of missing values in these rows to determine whether to drop them or replace them with something else."
   ]
  },
  {
   "cell_type": "code",
   "execution_count": 170,
   "id": "5e0107e7-b86d-4669-b02a-33abe5123757",
   "metadata": {},
   "outputs": [
    {
     "name": "stdout",
     "output_type": "stream",
     "text": [
      "Percentage of missing values:  InvoiceNo       0.000000\n",
      "StockCode       0.000000\n",
      "Description     0.268311\n",
      "Quantity        0.000000\n",
      "InvoiceDate     0.000000\n",
      "UnitPrice       0.000000\n",
      "CustomerID     24.926694\n",
      "Country         0.000000\n",
      "dtype: float64\n"
     ]
    }
   ],
   "source": [
    "# Checking the percentage of missing values\n",
    "print('Percentage of missing values: ', retail_data.isnull().sum() * 100 / len(retail_data))"
   ]
  },
  {
   "cell_type": "markdown",
   "id": "17c6d2d4-e7e2-48d4-9767-4436a9e70fc5",
   "metadata": {},
   "source": [
    "#### The Description column has only 0.2 % of null values.\n",
    "#### We can see that the CustomerID column has around a quarter of missing values.\n",
    "#### Also, the CustomerID column is essential to carry out further customer segmentation so it cannot contain null values.\n",
    "#### Considering the above measures we will drop all the null values."
   ]
  },
  {
   "cell_type": "markdown",
   "id": "29fff448-2843-4b2d-9940-03609e798376",
   "metadata": {},
   "source": [
    "## 3. Clean the Data:\n",
    "Handle missing values by either dropping or filling them.<br/>\n",
    "Remove duplicate entries in the dataset.<br/>\n",
    "Correct data types as necessary."
   ]
  },
  {
   "cell_type": "markdown",
   "id": "b558e774-c08a-4f6b-9a25-619c8a9c614e",
   "metadata": {},
   "source": [
    "### Handling missing values"
   ]
  },
  {
   "cell_type": "code",
   "execution_count": 175,
   "id": "fdb3652c-9687-4925-9851-6fca6bf208d3",
   "metadata": {},
   "outputs": [],
   "source": [
    "# dropping the missing values \n",
    "retail_data.dropna(inplace = True)"
   ]
  },
  {
   "cell_type": "code",
   "execution_count": 177,
   "id": "e7a6f8ef-77ad-493d-b717-9fd4069ed37a",
   "metadata": {},
   "outputs": [],
   "source": [
    "# resetting the indexes\n",
    "retail_data.reset_index(drop = True, inplace = True)"
   ]
  },
  {
   "cell_type": "markdown",
   "id": "7aa96f1d-1b9b-4b23-a711-c77e9f333437",
   "metadata": {},
   "source": [
    "#### Let's check the data again "
   ]
  },
  {
   "cell_type": "code",
   "execution_count": 180,
   "id": "fb27239c-2922-4dc2-a651-95684afe748b",
   "metadata": {},
   "outputs": [
    {
     "data": {
      "text/html": [
       "<div>\n",
       "<style scoped>\n",
       "    .dataframe tbody tr th:only-of-type {\n",
       "        vertical-align: middle;\n",
       "    }\n",
       "\n",
       "    .dataframe tbody tr th {\n",
       "        vertical-align: top;\n",
       "    }\n",
       "\n",
       "    .dataframe thead th {\n",
       "        text-align: right;\n",
       "    }\n",
       "</style>\n",
       "<table border=\"1\" class=\"dataframe\">\n",
       "  <thead>\n",
       "    <tr style=\"text-align: right;\">\n",
       "      <th></th>\n",
       "      <th>InvoiceNo</th>\n",
       "      <th>StockCode</th>\n",
       "      <th>Description</th>\n",
       "      <th>Quantity</th>\n",
       "      <th>InvoiceDate</th>\n",
       "      <th>UnitPrice</th>\n",
       "      <th>CustomerID</th>\n",
       "      <th>Country</th>\n",
       "    </tr>\n",
       "  </thead>\n",
       "  <tbody>\n",
       "    <tr>\n",
       "      <th>0</th>\n",
       "      <td>536365</td>\n",
       "      <td>85123A</td>\n",
       "      <td>WHITE HANGING HEART T-LIGHT HOLDER</td>\n",
       "      <td>6</td>\n",
       "      <td>2010-12-01 08:26:00</td>\n",
       "      <td>2.55</td>\n",
       "      <td>17850.0</td>\n",
       "      <td>United Kingdom</td>\n",
       "    </tr>\n",
       "    <tr>\n",
       "      <th>1</th>\n",
       "      <td>536365</td>\n",
       "      <td>71053</td>\n",
       "      <td>WHITE METAL LANTERN</td>\n",
       "      <td>6</td>\n",
       "      <td>2010-12-01 08:26:00</td>\n",
       "      <td>3.39</td>\n",
       "      <td>17850.0</td>\n",
       "      <td>United Kingdom</td>\n",
       "    </tr>\n",
       "    <tr>\n",
       "      <th>2</th>\n",
       "      <td>536365</td>\n",
       "      <td>84406B</td>\n",
       "      <td>CREAM CUPID HEARTS COAT HANGER</td>\n",
       "      <td>8</td>\n",
       "      <td>2010-12-01 08:26:00</td>\n",
       "      <td>2.75</td>\n",
       "      <td>17850.0</td>\n",
       "      <td>United Kingdom</td>\n",
       "    </tr>\n",
       "    <tr>\n",
       "      <th>3</th>\n",
       "      <td>536365</td>\n",
       "      <td>84029G</td>\n",
       "      <td>KNITTED UNION FLAG HOT WATER BOTTLE</td>\n",
       "      <td>6</td>\n",
       "      <td>2010-12-01 08:26:00</td>\n",
       "      <td>3.39</td>\n",
       "      <td>17850.0</td>\n",
       "      <td>United Kingdom</td>\n",
       "    </tr>\n",
       "    <tr>\n",
       "      <th>4</th>\n",
       "      <td>536365</td>\n",
       "      <td>84029E</td>\n",
       "      <td>RED WOOLLY HOTTIE WHITE HEART.</td>\n",
       "      <td>6</td>\n",
       "      <td>2010-12-01 08:26:00</td>\n",
       "      <td>3.39</td>\n",
       "      <td>17850.0</td>\n",
       "      <td>United Kingdom</td>\n",
       "    </tr>\n",
       "  </tbody>\n",
       "</table>\n",
       "</div>"
      ],
      "text/plain": [
       "  InvoiceNo StockCode                          Description  Quantity  \\\n",
       "0    536365    85123A   WHITE HANGING HEART T-LIGHT HOLDER         6   \n",
       "1    536365     71053                  WHITE METAL LANTERN         6   \n",
       "2    536365    84406B       CREAM CUPID HEARTS COAT HANGER         8   \n",
       "3    536365    84029G  KNITTED UNION FLAG HOT WATER BOTTLE         6   \n",
       "4    536365    84029E       RED WOOLLY HOTTIE WHITE HEART.         6   \n",
       "\n",
       "          InvoiceDate  UnitPrice  CustomerID         Country  \n",
       "0 2010-12-01 08:26:00       2.55     17850.0  United Kingdom  \n",
       "1 2010-12-01 08:26:00       3.39     17850.0  United Kingdom  \n",
       "2 2010-12-01 08:26:00       2.75     17850.0  United Kingdom  \n",
       "3 2010-12-01 08:26:00       3.39     17850.0  United Kingdom  \n",
       "4 2010-12-01 08:26:00       3.39     17850.0  United Kingdom  "
      ]
     },
     "execution_count": 180,
     "metadata": {},
     "output_type": "execute_result"
    }
   ],
   "source": [
    "retail_data.head()"
   ]
  },
  {
   "cell_type": "code",
   "execution_count": 182,
   "id": "acf82dc7-d4ab-4a24-bd29-6a20feccc4e9",
   "metadata": {},
   "outputs": [
    {
     "name": "stdout",
     "output_type": "stream",
     "text": [
      "Number of null values in each column: InvoiceNo      0\n",
      "StockCode      0\n",
      "Description    0\n",
      "Quantity       0\n",
      "InvoiceDate    0\n",
      "UnitPrice      0\n",
      "CustomerID     0\n",
      "Country        0\n",
      "dtype: int64\n"
     ]
    }
   ],
   "source": [
    "# Also check if our data has null values in it\n",
    "print('Number of null values in each column:', retail_data.isnull().sum())"
   ]
  },
  {
   "cell_type": "markdown",
   "id": "2fda2ea8-892a-4d43-80c9-bfecd6003c78",
   "metadata": {},
   "source": [
    "### Correcting the data types where necessary"
   ]
  },
  {
   "cell_type": "code",
   "execution_count": 185,
   "id": "d012768b-32d8-4ce6-ab28-2a800287fdf2",
   "metadata": {},
   "outputs": [],
   "source": [
    "# changing the data type of CustomerID from float to integer for efficiency\n",
    "retail_data['CustomerID'] = retail_data['CustomerID'].astype('int64')"
   ]
  },
  {
   "cell_type": "code",
   "execution_count": 187,
   "id": "c629aaaf-4d10-419b-82b2-b75b2f49f15a",
   "metadata": {},
   "outputs": [
    {
     "data": {
      "text/html": [
       "<div>\n",
       "<style scoped>\n",
       "    .dataframe tbody tr th:only-of-type {\n",
       "        vertical-align: middle;\n",
       "    }\n",
       "\n",
       "    .dataframe tbody tr th {\n",
       "        vertical-align: top;\n",
       "    }\n",
       "\n",
       "    .dataframe thead th {\n",
       "        text-align: right;\n",
       "    }\n",
       "</style>\n",
       "<table border=\"1\" class=\"dataframe\">\n",
       "  <thead>\n",
       "    <tr style=\"text-align: right;\">\n",
       "      <th></th>\n",
       "      <th>InvoiceNo</th>\n",
       "      <th>StockCode</th>\n",
       "      <th>Description</th>\n",
       "      <th>Quantity</th>\n",
       "      <th>InvoiceDate</th>\n",
       "      <th>UnitPrice</th>\n",
       "      <th>CustomerID</th>\n",
       "      <th>Country</th>\n",
       "    </tr>\n",
       "  </thead>\n",
       "  <tbody>\n",
       "    <tr>\n",
       "      <th>0</th>\n",
       "      <td>536365</td>\n",
       "      <td>85123A</td>\n",
       "      <td>WHITE HANGING HEART T-LIGHT HOLDER</td>\n",
       "      <td>6</td>\n",
       "      <td>2010-12-01 08:26:00</td>\n",
       "      <td>2.55</td>\n",
       "      <td>17850</td>\n",
       "      <td>United Kingdom</td>\n",
       "    </tr>\n",
       "    <tr>\n",
       "      <th>1</th>\n",
       "      <td>536365</td>\n",
       "      <td>71053</td>\n",
       "      <td>WHITE METAL LANTERN</td>\n",
       "      <td>6</td>\n",
       "      <td>2010-12-01 08:26:00</td>\n",
       "      <td>3.39</td>\n",
       "      <td>17850</td>\n",
       "      <td>United Kingdom</td>\n",
       "    </tr>\n",
       "    <tr>\n",
       "      <th>2</th>\n",
       "      <td>536365</td>\n",
       "      <td>84406B</td>\n",
       "      <td>CREAM CUPID HEARTS COAT HANGER</td>\n",
       "      <td>8</td>\n",
       "      <td>2010-12-01 08:26:00</td>\n",
       "      <td>2.75</td>\n",
       "      <td>17850</td>\n",
       "      <td>United Kingdom</td>\n",
       "    </tr>\n",
       "    <tr>\n",
       "      <th>3</th>\n",
       "      <td>536365</td>\n",
       "      <td>84029G</td>\n",
       "      <td>KNITTED UNION FLAG HOT WATER BOTTLE</td>\n",
       "      <td>6</td>\n",
       "      <td>2010-12-01 08:26:00</td>\n",
       "      <td>3.39</td>\n",
       "      <td>17850</td>\n",
       "      <td>United Kingdom</td>\n",
       "    </tr>\n",
       "    <tr>\n",
       "      <th>4</th>\n",
       "      <td>536365</td>\n",
       "      <td>84029E</td>\n",
       "      <td>RED WOOLLY HOTTIE WHITE HEART.</td>\n",
       "      <td>6</td>\n",
       "      <td>2010-12-01 08:26:00</td>\n",
       "      <td>3.39</td>\n",
       "      <td>17850</td>\n",
       "      <td>United Kingdom</td>\n",
       "    </tr>\n",
       "  </tbody>\n",
       "</table>\n",
       "</div>"
      ],
      "text/plain": [
       "  InvoiceNo StockCode                          Description  Quantity  \\\n",
       "0    536365    85123A   WHITE HANGING HEART T-LIGHT HOLDER         6   \n",
       "1    536365     71053                  WHITE METAL LANTERN         6   \n",
       "2    536365    84406B       CREAM CUPID HEARTS COAT HANGER         8   \n",
       "3    536365    84029G  KNITTED UNION FLAG HOT WATER BOTTLE         6   \n",
       "4    536365    84029E       RED WOOLLY HOTTIE WHITE HEART.         6   \n",
       "\n",
       "          InvoiceDate  UnitPrice  CustomerID         Country  \n",
       "0 2010-12-01 08:26:00       2.55       17850  United Kingdom  \n",
       "1 2010-12-01 08:26:00       3.39       17850  United Kingdom  \n",
       "2 2010-12-01 08:26:00       2.75       17850  United Kingdom  \n",
       "3 2010-12-01 08:26:00       3.39       17850  United Kingdom  \n",
       "4 2010-12-01 08:26:00       3.39       17850  United Kingdom  "
      ]
     },
     "execution_count": 187,
     "metadata": {},
     "output_type": "execute_result"
    }
   ],
   "source": [
    "retail_data.head()"
   ]
  },
  {
   "cell_type": "markdown",
   "id": "ec8e1add-252d-4858-806a-f877f3b7b41f",
   "metadata": {},
   "source": [
    "### Checking for outliers"
   ]
  },
  {
   "cell_type": "code",
   "execution_count": 190,
   "id": "15ed32e2-9aaf-4137-8ffb-0d172cf98cc3",
   "metadata": {},
   "outputs": [
    {
     "data": {
      "image/png": "[encoded data removed]",
      "text/plain": [
       "<Figure size 800x400 with 1 Axes>"
      ]
     },
     "metadata": {},
     "output_type": "display_data"
    },
    {
     "data": {
      "image/png": "[encoded data removed]",
      "text/plain": [
       "<Figure size 800x400 with 1 Axes>"
      ]
     },
     "metadata": {},
     "output_type": "display_data"
    },
    {
     "data": {
      "image/png": "[encoded data removed]",
      "text/plain": [
       "<Figure size 800x400 with 1 Axes>"
      ]
     },
     "metadata": {},
     "output_type": "display_data"
    }
   ],
   "source": [
    "# Visualize data using boxplots\n",
    "numerical_columns = retail_data.select_dtypes(include=['float', 'int64']).columns\n",
    "\n",
    "for col in numerical_columns:\n",
    "    plt.figure(figsize=(8, 4))\n",
    "    plt.boxplot(retail_data[col], vert=False)\n",
    "    plt.title(f\"Boxplot for {col}\")\n",
    "    plt.xlabel(col)\n",
    "    plt.show()"
   ]
  },
  {
   "cell_type": "markdown",
   "id": "7cbb7bd0-f504-468b-8062-38b8fc80cb47",
   "metadata": {},
   "source": [
    "#### Detecting outliers using Z-scores"
   ]
  },
  {
   "cell_type": "code",
   "execution_count": 193,
   "id": "c9272ff3-602e-4364-ae17-80229591cfc0",
   "metadata": {},
   "outputs": [],
   "source": [
    "from scipy.stats import zscore"
   ]
  },
  {
   "cell_type": "code",
   "execution_count": 195,
   "id": "3fe2f5f8-aa68-4104-8e19-9557ea229843",
   "metadata": {},
   "outputs": [],
   "source": [
    "# Calculating Z-scores for numerical columns\n",
    "z_scores = np.abs(zscore(retail_data[numerical_columns]))"
   ]
  },
  {
   "cell_type": "code",
   "execution_count": 197,
   "id": "d76786c5-3845-4030-a0a7-d2b82b3c2f15",
   "metadata": {},
   "outputs": [],
   "source": [
    "# Threshold for identifying outliers\n",
    "threshold = 3\n",
    "outliers_z = (z_scores > threshold)"
   ]
  },
  {
   "cell_type": "code",
   "execution_count": 199,
   "id": "4e66eecf-73c3-4e6e-a514-ac07553dfdc4",
   "metadata": {},
   "outputs": [
    {
     "name": "stdout",
     "output_type": "stream",
     "text": [
      "Number of outliers detected using Z-scores: 337\n"
     ]
    }
   ],
   "source": [
    "# Getting rows with outliers\n",
    "outlier_rows_z = retail_data[(outliers_z).any(axis=1)]\n",
    "print(f\"Number of outliers detected using Z-scores: {outlier_rows_z.shape[0]}\")"
   ]
  },
  {
   "cell_type": "markdown",
   "id": "7a2e21bd-d10c-44ad-be1f-3c4425ebc2d6",
   "metadata": {},
   "source": [
    "#### Detecting outliers using IQR"
   ]
  },
  {
   "cell_type": "code",
   "execution_count": 202,
   "id": "6e4ad788-fc1d-4d10-9eb5-8615d9bfffe5",
   "metadata": {},
   "outputs": [],
   "source": [
    "outlier_indices = []\n",
    "\n",
    "for col in numerical_columns:\n",
    "    Q1 = retail_data[col].quantile(0.25)\n",
    "    Q3 = retail_data[col].quantile(0.75)\n",
    "    IQR = Q3 - Q1\n",
    "    lower_bound = Q1 - 1.5 * IQR\n",
    "    upper_bound = Q3 + 1.5 * IQR\n",
    "    \n",
    "    # Find outliers\n",
    "    outliers = retail_data[(retail_data[col] < lower_bound) | (retail_data[col] > upper_bound)].index\n",
    "    outlier_indices.extend(outliers)"
   ]
  },
  {
   "cell_type": "markdown",
   "id": "e56d65c6-b307-4282-aba0-99a22cb57433",
   "metadata": {},
   "source": [
    "### Dropping the outliers"
   ]
  },
  {
   "cell_type": "code",
   "execution_count": 205,
   "id": "ff8a08fb-ffb5-4e19-8680-2483c8314347",
   "metadata": {},
   "outputs": [
    {
     "name": "stdout",
     "output_type": "stream",
     "text": [
      "Shape of DataFrame after removing outliers: (344393, 8)\n"
     ]
    }
   ],
   "source": [
    "outlier_indices = list(set(outlier_indices))\n",
    "\n",
    "retail_data_cleaned = retail_data.drop(index=outlier_indices)\n",
    "print(f\"Shape of DataFrame after removing outliers: {retail_data_cleaned.shape}\")"
   ]
  },
  {
   "cell_type": "markdown",
   "id": "79630b45-6a41-40d7-baf5-e4ad3c746623",
   "metadata": {},
   "source": [
    "### Checking for Duplicate values"
   ]
  },
  {
   "cell_type": "code",
   "execution_count": 208,
   "id": "0ca4e1eb-cd7f-450b-aeb8-578b3b6625e9",
   "metadata": {},
   "outputs": [
    {
     "name": "stdout",
     "output_type": "stream",
     "text": [
      "Number of duplicate rows: 4940\n"
     ]
    }
   ],
   "source": [
    "# checking for duplicate values\n",
    "print('Number of duplicate rows:', retail_data_cleaned.duplicated().sum())"
   ]
  },
  {
   "cell_type": "code",
   "execution_count": 210,
   "id": "d748c41e-fe77-4e8a-905b-f1f7e8f738f5",
   "metadata": {},
   "outputs": [
    {
     "name": "stdout",
     "output_type": "stream",
     "text": [
      "       InvoiceNo StockCode                        Description  Quantity  \\\n",
      "517       536409     21866        UNION JACK FLAG LUGGAGE TAG         1   \n",
      "527       536409     22866      HAND WARMER SCOTTY DOG DESIGN         1   \n",
      "537       536409     22900    SET 2 TEA TOWELS I LOVE LONDON          1   \n",
      "539       536409     22111       SCOTTIE DOG HOT WATER BOTTLE         1   \n",
      "555       536412     22327  ROUND SNACK BOXES SET OF 4 SKULLS         1   \n",
      "...          ...       ...                                ...       ...   \n",
      "406595    581538     22068        BLACK PIRATE TREASURE CHEST         1   \n",
      "406609    581538     23318     BOX OF 6 MINI VINTAGE CRACKERS         1   \n",
      "406612    581538     22992             REVOLVER WOODEN RULER          1   \n",
      "406619    581538     22694                       WICKER STAR          1   \n",
      "406621    581538     23343       JUMBO BAG VINTAGE CHRISTMAS          1   \n",
      "\n",
      "               InvoiceDate  UnitPrice  CustomerID         Country  \n",
      "517    2010-12-01 11:45:00       1.25       17908  United Kingdom  \n",
      "527    2010-12-01 11:45:00       2.10       17908  United Kingdom  \n",
      "537    2010-12-01 11:45:00       2.95       17908  United Kingdom  \n",
      "539    2010-12-01 11:45:00       4.95       17908  United Kingdom  \n",
      "555    2010-12-01 11:49:00       2.95       17920  United Kingdom  \n",
      "...                    ...        ...         ...             ...  \n",
      "406595 2011-12-09 11:34:00       0.39       14446  United Kingdom  \n",
      "406609 2011-12-09 11:34:00       2.49       14446  United Kingdom  \n",
      "406612 2011-12-09 11:34:00       1.95       14446  United Kingdom  \n",
      "406619 2011-12-09 11:34:00       2.10       14446  United Kingdom  \n",
      "406621 2011-12-09 11:34:00       2.08       14446  United Kingdom  \n",
      "\n",
      "[4940 rows x 8 columns]\n"
     ]
    }
   ],
   "source": [
    "# Identifying the duplicate rows\n",
    "duplicate_rows = retail_data_cleaned[retail_data_cleaned.duplicated()]\n",
    "print(duplicate_rows)"
   ]
  },
  {
   "cell_type": "markdown",
   "id": "1c418452-40d6-4b32-a87b-5408515be885",
   "metadata": {},
   "source": [
    "#### As we can see the duplicates are not actually duplicates but different products bought by the same customer.\n",
    "#### So we will not drop the duplicates as it is a valuable data for customer behavior analysis.\n",
    "#### But there's another way to handle these duplicates and the solution is by using groupby() and agg() methods."
   ]
  },
  {
   "cell_type": "code",
   "execution_count": 213,
   "id": "ad2d8122-4826-4ad9-b2ca-6a9058b97e32",
   "metadata": {},
   "outputs": [],
   "source": [
    "# Since we are going to perform customer segmentation we will use groupby on 'CustomerID'\n",
    "# We also need aggregate of columns 'Quantity', 'UnitPrice', 'InvoiceNo' and 'Stockcode' to derive the total revenue by one customer\n",
    "aggregated_data = retail_data_cleaned.groupby('CustomerID').agg({\n",
    "    'Quantity': 'sum',              # Total quantity of items purchased\n",
    "    'UnitPrice': 'mean',            # Average unit price\n",
    "    'InvoiceNo': 'nunique',         # Number of unique transactions\n",
    "    'StockCode': 'nunique',          # Number of unique products\n",
    "}).reset_index()"
   ]
  },
  {
   "cell_type": "code",
   "execution_count": 215,
   "id": "b00c5c40-b551-4248-9c44-30b276079cc6",
   "metadata": {},
   "outputs": [],
   "source": [
    "# Rename columns for clarity\n",
    "aggregated_data.rename(columns={\n",
    "    'Quantity': 'TotalQuantity',\n",
    "    'UnitPrice': 'AveragePrice',\n",
    "    'InvoiceNo': 'TransactionCount',\n",
    "    'StockCode': 'UniqueProducts'\n",
    "}, inplace=True)"
   ]
  },
  {
   "cell_type": "code",
   "execution_count": 217,
   "id": "4f9857da-dabb-49ad-b72a-3763fc5cacb7",
   "metadata": {},
   "outputs": [],
   "source": [
    "# Adding new column 'TotalRevenue' to the newly created dataset named aggregated_data\n",
    "aggregated_data['TotalRevenue'] = aggregated_data['TotalQuantity'] * aggregated_data['AveragePrice']"
   ]
  },
  {
   "cell_type": "code",
   "execution_count": 219,
   "id": "cfeff13c-21e2-4bbd-9ee3-7b1afce4230d",
   "metadata": {},
   "outputs": [
    {
     "data": {
      "text/html": [
       "<div>\n",
       "<style scoped>\n",
       "    .dataframe tbody tr th:only-of-type {\n",
       "        vertical-align: middle;\n",
       "    }\n",
       "\n",
       "    .dataframe tbody tr th {\n",
       "        vertical-align: top;\n",
       "    }\n",
       "\n",
       "    .dataframe thead th {\n",
       "        text-align: right;\n",
       "    }\n",
       "</style>\n",
       "<table border=\"1\" class=\"dataframe\">\n",
       "  <thead>\n",
       "    <tr style=\"text-align: right;\">\n",
       "      <th></th>\n",
       "      <th>CustomerID</th>\n",
       "      <th>TotalQuantity</th>\n",
       "      <th>AveragePrice</th>\n",
       "      <th>TransactionCount</th>\n",
       "      <th>UniqueProducts</th>\n",
       "      <th>TotalRevenue</th>\n",
       "    </tr>\n",
       "  </thead>\n",
       "  <tbody>\n",
       "    <tr>\n",
       "      <th>0</th>\n",
       "      <td>12347</td>\n",
       "      <td>1893</td>\n",
       "      <td>2.348976</td>\n",
       "      <td>7</td>\n",
       "      <td>96</td>\n",
       "      <td>4446.611386</td>\n",
       "    </tr>\n",
       "    <tr>\n",
       "      <th>1</th>\n",
       "      <td>12348</td>\n",
       "      <td>140</td>\n",
       "      <td>0.650000</td>\n",
       "      <td>3</td>\n",
       "      <td>6</td>\n",
       "      <td>91.000000</td>\n",
       "    </tr>\n",
       "    <tr>\n",
       "      <th>2</th>\n",
       "      <td>12349</td>\n",
       "      <td>523</td>\n",
       "      <td>2.607759</td>\n",
       "      <td>1</td>\n",
       "      <td>58</td>\n",
       "      <td>1363.857759</td>\n",
       "    </tr>\n",
       "    <tr>\n",
       "      <th>3</th>\n",
       "      <td>12350</td>\n",
       "      <td>196</td>\n",
       "      <td>1.581250</td>\n",
       "      <td>1</td>\n",
       "      <td>16</td>\n",
       "      <td>309.925000</td>\n",
       "    </tr>\n",
       "    <tr>\n",
       "      <th>4</th>\n",
       "      <td>12352</td>\n",
       "      <td>437</td>\n",
       "      <td>3.054110</td>\n",
       "      <td>8</td>\n",
       "      <td>49</td>\n",
       "      <td>1334.645890</td>\n",
       "    </tr>\n",
       "  </tbody>\n",
       "</table>\n",
       "</div>"
      ],
      "text/plain": [
       "   CustomerID  TotalQuantity  AveragePrice  TransactionCount  UniqueProducts  \\\n",
       "0       12347           1893      2.348976                 7              96   \n",
       "1       12348            140      0.650000                 3               6   \n",
       "2       12349            523      2.607759                 1              58   \n",
       "3       12350            196      1.581250                 1              16   \n",
       "4       12352            437      3.054110                 8              49   \n",
       "\n",
       "   TotalRevenue  \n",
       "0   4446.611386  \n",
       "1     91.000000  \n",
       "2   1363.857759  \n",
       "3    309.925000  \n",
       "4   1334.645890  "
      ]
     },
     "execution_count": 219,
     "metadata": {},
     "output_type": "execute_result"
    }
   ],
   "source": [
    "# Let's check few rows of aggregated_data\n",
    "aggregated_data.head()"
   ]
  },
  {
   "cell_type": "markdown",
   "id": "34b1fcfa-4f67-420c-9ea1-223876288cd3",
   "metadata": {},
   "source": [
    "## 4. Transform the Data:\n",
    "Normalize or standardize the data<br/>\n",
    "Encode categorical variables."
   ]
  },
  {
   "cell_type": "markdown",
   "id": "bdb13c6c-bd1b-464a-877e-238ba68d74ee",
   "metadata": {},
   "source": [
    "#### Normalizing or Standardizing the Data "
   ]
  },
  {
   "cell_type": "code",
   "execution_count": 223,
   "id": "2bfc853b-3f06-49f9-9a8b-ea1f8fbe902c",
   "metadata": {},
   "outputs": [],
   "source": [
    "# Let's import StandardScaler from sklearn\n",
    "from sklearn.preprocessing import StandardScaler"
   ]
  },
  {
   "cell_type": "code",
   "execution_count": 225,
   "id": "715ae739-7f77-4a67-9e8a-2dd9f6c49052",
   "metadata": {},
   "outputs": [],
   "source": [
    "# Selecting features for clustering\n",
    "features = ['TotalQuantity', 'AveragePrice', 'TransactionCount', 'UniqueProducts', 'TotalRevenue']"
   ]
  },
  {
   "cell_type": "code",
   "execution_count": 227,
   "id": "11027537-e2fe-47fb-b9b0-47fc780ed1e0",
   "metadata": {},
   "outputs": [],
   "source": [
    "# Standardizing the features\n",
    "scaler = StandardScaler()\n",
    "normalized_data = scaler.fit_transform(aggregated_data[features])"
   ]
  },
  {
   "cell_type": "code",
   "execution_count": 229,
   "id": "38720d1d-215d-49c9-8988-a6000242d237",
   "metadata": {},
   "outputs": [
    {
     "name": "stdout",
     "output_type": "stream",
     "text": [
      "   TotalQuantity  AveragePrice  TransactionCount  UniqueProducts  TotalRevenue\n",
      "0       1.043605      0.022443          0.288905        0.534722      1.117534\n",
      "1      -0.364545     -2.194782         -0.195414       -0.642213     -0.430131\n",
      "2      -0.056889      0.360164         -0.437573        0.037794      0.022150\n",
      "3      -0.319561     -0.979467         -0.437573       -0.511442     -0.352341\n",
      "4      -0.125971      0.942668          0.409985       -0.079900      0.011770\n"
     ]
    }
   ],
   "source": [
    "# Converting back to a DataFrame for convenience\n",
    "normalized_df = pd.DataFrame(normalized_data, columns=features)\n",
    "print(normalized_df.head())"
   ]
  },
  {
   "cell_type": "markdown",
   "id": "d492da42-99c6-418c-91f0-9c0eb8245b34",
   "metadata": {},
   "source": [
    "#### Standardization (z-score scaling) centers data around 0 with a standard deviation of 1.\n",
    "#### Since aggregated_data is already numeric and doesn't include categorical variables like Country, we can skip encoding."
   ]
  },
  {
   "cell_type": "markdown",
   "id": "b16d5225-b859-43ad-a7f7-b562e8574e50",
   "metadata": {},
   "source": [
    "## 5. Feature Engineering:\n",
    "Create new features based on existing ones.\n",
    "<br/>\n",
    "Perform feature selection to identify the most relevant features."
   ]
  },
  {
   "cell_type": "markdown",
   "id": "80d4def3-eefa-4824-a33b-f2cbe42a3d46",
   "metadata": {},
   "source": [
    "#### Creating new features"
   ]
  },
  {
   "cell_type": "markdown",
   "id": "0a32a583-152d-4199-a794-24d04405835f",
   "metadata": {},
   "source": [
    "### 5.1 Recency\n",
    "Calculating the number of days since the customer’s last transaction"
   ]
  },
  {
   "cell_type": "code",
   "execution_count": 237,
   "id": "dd78f0ad-9514-4b98-ae6e-5fe4e1c1161a",
   "metadata": {},
   "outputs": [],
   "source": [
    "# Finding the last purchase date for each customer\n",
    "latest_date = retail_data['InvoiceDate'].max()\n",
    "retail_data['Recency'] = (latest_date - retail_data['InvoiceDate']).dt.days\n",
    "\n",
    "# Aggregating Recency to get the minimum (last transaction) for each customer\n",
    "recency_data = retail_data.groupby('CustomerID')['Recency'].min().reset_index()"
   ]
  },
  {
   "cell_type": "markdown",
   "id": "9b513eb3-c792-4ddb-91ff-ab93c35cb4fa",
   "metadata": {},
   "source": [
    "### 5.2 Frequency\n",
    "Counting the number of transactions made by each customer"
   ]
  },
  {
   "cell_type": "code",
   "execution_count": 240,
   "id": "718b1d4e-ac14-4ac7-a25b-7ee32797f7a7",
   "metadata": {},
   "outputs": [],
   "source": [
    "frequency_data = retail_data.groupby('CustomerID')['InvoiceNo'].nunique().reset_index()\n",
    "frequency_data.rename(columns={'InvoiceNo': 'TransactionCount'}, inplace=True)"
   ]
  },
  {
   "cell_type": "markdown",
   "id": "8fbf16f6-b057-43e5-8113-521f343dcba9",
   "metadata": {},
   "source": [
    "### 5.3 Revenue\n",
    "Calculating the total revenue for each customer"
   ]
  },
  {
   "cell_type": "code",
   "execution_count": 243,
   "id": "7fd266a5-0fe0-4d06-b3ef-f00437a55062",
   "metadata": {},
   "outputs": [],
   "source": [
    "# Creating a new feature for total revenue per transaction\n",
    "retail_data['Revenue'] = retail_data['Quantity'] * retail_data['UnitPrice']\n",
    "\n",
    "# Aggregating total revenue by customer\n",
    "revenue_data = retail_data.groupby('CustomerID')['Revenue'].sum().reset_index()"
   ]
  },
  {
   "cell_type": "markdown",
   "id": "1aa1344b-7f2d-4b14-9051-f57eb6b7413e",
   "metadata": {},
   "source": [
    "### 5.4 Average Quantity per Transaction\n",
    "Calculating the average quantity purchased by a customer in a single transaction"
   ]
  },
  {
   "cell_type": "code",
   "execution_count": 246,
   "id": "22ea1c8e-3958-477c-afd3-a71af1e932ed",
   "metadata": {},
   "outputs": [],
   "source": [
    "avg_quantity = retail_data.groupby('CustomerID')['Quantity'].mean().reset_index()\n",
    "avg_quantity.rename(columns={'Quantity': 'AvgQuantityPerPurchase'}, inplace=True)"
   ]
  },
  {
   "cell_type": "markdown",
   "id": "762d079c-5653-4856-b375-fa73bda09add",
   "metadata": {},
   "source": [
    "#### Merging all the features"
   ]
  },
  {
   "cell_type": "code",
   "execution_count": 249,
   "id": "d647e4a1-58e8-4e09-92e2-cacc4b7f1b93",
   "metadata": {},
   "outputs": [],
   "source": [
    "# Merging all customer-level features into one DataFrame\n",
    "customer_features = recency_data.merge(frequency_data, on='CustomerID')\n",
    "customer_features = customer_features.merge(revenue_data, on='CustomerID')\n",
    "customer_features = customer_features.merge(avg_quantity, on='CustomerID')"
   ]
  },
  {
   "cell_type": "markdown",
   "id": "6a2965f6-8b24-4f7f-af71-6936aca9bd13",
   "metadata": {},
   "source": [
    "#### Feature Selection"
   ]
  },
  {
   "cell_type": "code",
   "execution_count": 252,
   "id": "a266456b-23a5-46c5-b361-b6d36fe6c1c9",
   "metadata": {},
   "outputs": [
    {
     "data": {
      "image/png": "[encoded data removed]",
      "text/plain": [
       "<Figure size 1000x800 with 2 Axes>"
      ]
     },
     "metadata": {},
     "output_type": "display_data"
    }
   ],
   "source": [
    "# Droping features that don't carry meaningful numerical information\n",
    "data_for_clustering = customer_features.drop(columns=['CustomerID'], axis=1)\n",
    "\n",
    "# Checking for correlation using correlation matrix\n",
    "import seaborn as sns\n",
    "\n",
    "# Computing correlation matrix\n",
    "correlation_matrix = data_for_clustering.corr()\n",
    "\n",
    "# Identifying Highly Correlated Feature\n",
    "correlation_threshold = 0.9   # adjusting threshold as needed\n",
    "correlated_features = set()\n",
    "\n",
    "for i in range(len(correlation_matrix.columns)):\n",
    "    for j in range(i):\n",
    "        if abs(correlation_matrix.iloc[i,j])>correlation_threshold:\n",
    "            colname = correlation_matrix.columns[i]\n",
    "            correlated_features.add(colname)\n",
    "\n",
    "# Visualizing the correlation matrix\n",
    "plt.figure(figsize=(10, 8))\n",
    "sns.heatmap(correlation_matrix, annot=True, cmap='coolwarm', linewidths=0.5)\n",
    "plt.title(\"Feature Correlation Matrix\")\n",
    "plt.show()"
   ]
  },
  {
   "cell_type": "markdown",
   "id": "ae5e77e6-bf5b-489b-b8c2-401e7212046e",
   "metadata": {},
   "source": [
    "#### Feature Selection Summary:\n",
    "#### - Correlation matrix computed to identify relationships between features.\n",
    "#### - Highly correlated features (above threshold) were identified and removed to avoid redundancy.\n",
    "#### - The remaining features are now independent and suitable for clustering.\n",
    "#### - The final dataset is ready for K-means clustering analysis."
   ]
  },
  {
   "cell_type": "code",
   "execution_count": 255,
   "id": "a2997ba6-dd51-4c04-a2d6-e1f4769af3fd",
   "metadata": {},
   "outputs": [],
   "source": [
    "# Saving the final dataset (after feature selection) for further analysis\n",
    "data_for_clustering.to_csv('data_for_clustering_final.csv', index=False)"
   ]
  },
  {
   "cell_type": "code",
   "execution_count": null,
   "id": "c6f4dbc9-69ff-4bf8-8edd-c3a692b18ea1",
   "metadata": {},
   "outputs": [],
   "source": []
  }
 ],
 "metadata": {
  "kernelspec": {
   "display_name": "Python 3 (ipykernel)",
   "language": "python",
   "name": "python3"
  },
  "language_info": {
   "codemirror_mode": {
    "name": "ipython",
    "version": 3
   },
   "file_extension": ".py",
   "mimetype": "text/x-python",
   "name": "python",
   "nbconvert_exporter": "python",
   "pygments_lexer": "ipython3",
   "version": "3.11.7"
  }
 },
 "nbformat": 4,
 "nbformat_minor": 5
}
